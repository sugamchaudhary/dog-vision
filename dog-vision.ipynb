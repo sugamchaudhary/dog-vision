{
 "cells": [
  {
   "cell_type": "markdown",
   "metadata": {},
   "source": [
    "# End-to-End Multi-class Dog Breed Classification\n",
    "\n",
    "This notebook builds an end-to-end multi-class image classifier using Tensorflow 2.0 and Tensorflow Hub.\n",
    "\n",
    "## 1. Problem\n",
    "Identifying the breed of a dog given an image of a dog.\n",
    "\n",
    "When I'm sitting at the cafe and I take a photo of a dog, I want to know what breed of dog it is.\n",
    "\n",
    "## 2. Data\n",
    "The data we're using is form Kaggle's dog breed identification competition.\n",
    "\n",
    "https://www.kaggle.com/c/dog-breed-identification/data\n",
    "\n",
    "## 3. Evaluation\n",
    "The evaluation is a file with prediction probabilities for each dog breed of each test image.\n",
    "\n",
    "https://www.kaggle.com/competitions/dog-breed-identification/overview/evaluation\n",
    "\n",
    "## 4. Features\n",
    "Some information about the data\n",
    "* We're dealing with images (unstructured data) so it's probably best we use deep learning/transfer learning.\n",
    "* There are 120 breeds of dogs (this means there are 120 different classes.)\n",
    "* There are around 10,000+ images in the training set (these images have labels).\n",
    "* There are around 10,000+ images in the test set (these images have no labels, because we'll want to predict them).\n"
   ]
  },
  {
   "cell_type": "markdown",
   "metadata": {},
   "source": [
    "## Get our workspace ready"
   ]
  },
  {
   "cell_type": "code",
   "execution_count": 6,
   "metadata": {},
   "outputs": [
    {
     "name": "stdout",
     "output_type": "stream",
     "text": [
      "TF version: 2.3.0\n",
      "TF Hub version: 0.16.1\n",
      "GPU available (YES!)\n"
     ]
    }
   ],
   "source": [
    "# Import necessary tools\n",
    "import tensorflow as tf\n",
    "import tensorflow_hub as hub\n",
    "print(\"TF version:\", tf.__version__)\n",
    "print(\"TF Hub version:\", hub.__version__)\n",
    "\n",
    "# Check for GPU availability\n",
    "print(\"GPU\", \"available (YES!)\" if tf.config.list_physical_devices(\"GPU\") else \"not available\")"
   ]
  },
  {
   "cell_type": "code",
   "execution_count": null,
   "metadata": {},
   "outputs": [],
   "source": []
  }
 ],
 "metadata": {
  "kernelspec": {
   "display_name": "Python 3",
   "language": "python",
   "name": "python3"
  },
  "language_info": {
   "codemirror_mode": {
    "name": "ipython",
    "version": 3
   },
   "file_extension": ".py",
   "mimetype": "text/x-python",
   "name": "python",
   "nbconvert_exporter": "python",
   "pygments_lexer": "ipython3",
   "version": "3.8.20"
  }
 },
 "nbformat": 4,
 "nbformat_minor": 2
}
